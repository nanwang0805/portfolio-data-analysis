{
 "cells": [
  {
   "cell_type": "code",
   "execution_count": null,
   "id": "9418d0d5",
   "metadata": {},
   "outputs": [],
   "source": [
    "import os\n",
    "import geopandas as gpd\n",
    "import matplotlib.pyplot as plt\n",
    "import pandas as pd\n",
    "import matplotlib.colors as mcolors\n",
    "from matplotlib.patches import Patch"
   ]
  },
  {
   "cell_type": "code",
   "execution_count": null,
   "id": "78fae54a",
   "metadata": {},
   "outputs": [],
   "source": [
    "# 1.1\n",
    "PATH = (r'/Users/nanwang/Desktop/Python/applied pset/pset4 data/')\n",
    "gdf_states = gpd.read_file(os.path.join(PATH,\n",
    "'us-states.json'))\n",
    "type(gdf_states)"
   ]
  },
  {
   "cell_type": "code",
   "execution_count": null,
   "id": "c37a7fe4",
   "metadata": {},
   "outputs": [],
   "source": [
    "gdf_states.info()\n",
    "gdf_states.columns\n",
    "gdf_states.shape\n",
    "gdf_states.head()\n",
    "gdf_states.crs # WGS 84\n",
    "gdf_states.geom_type.value_counts()"
   ]
  },
  {
   "cell_type": "markdown",
   "id": "d89eca49",
   "metadata": {},
   "source": [
    "1.2\n",
    "the unit of observation is U.S. state.\n",
    "density: Presumably population density, which appears to be a numerical value (likely people per square mile or km², depending on the source)"
   ]
  },
  {
   "cell_type": "code",
   "execution_count": null,
   "id": "ff518953",
   "metadata": {},
   "outputs": [],
   "source": [
    "# 1.3\n",
    "gdf_states_proj = gdf_states.to_crs(epsg=5070)\n",
    "area_m2 = gdf_states_proj['geometry'].area\n",
    "gdf_states['area'] = area_m2\n",
    "print(gdf_states[['name', 'area']].head())"
   ]
  },
  {
   "cell_type": "code",
   "execution_count": null,
   "id": "6932a718",
   "metadata": {},
   "outputs": [],
   "source": [
    "# 1.4\n",
    "fig, ax = plt.subplots(figsize=(12, 8))"
   ]
  },
  {
   "cell_type": "code",
   "execution_count": null,
   "id": "6789e590",
   "metadata": {},
   "outputs": [],
   "source": [
    "gdf_states.plot(\n",
    "    column='area',        \n",
    "    cmap='Blues',        \n",
    "    linewidth=0.8,       \n",
    "    edgecolor='black',    \\\n",
    "    legend=True,          \n",
    "    ax=ax\n",
    ")"
   ]
  },
  {
   "cell_type": "code",
   "execution_count": null,
   "id": "1be20682",
   "metadata": {},
   "outputs": [],
   "source": [
    "ax.set_title(\"U.S. States by Area (sq meters)\", fontsize=16)\n",
    "ax.axis('off')  "
   ]
  },
  {
   "cell_type": "code",
   "execution_count": null,
   "id": "30546d39",
   "metadata": {},
   "outputs": [],
   "source": [
    "plt.show()"
   ]
  },
  {
   "cell_type": "code",
   "execution_count": null,
   "id": "87b5cce3",
   "metadata": {},
   "outputs": [],
   "source": [
    "# 1.5\n",
    "non_contig = [\"Alaska\",\"Hawaii\",\"Puerto Rico\"]\n",
    "gdf_contig = gdf_states[~gdf_states[\"name\"].isin(non_contig)].copy()"
   ]
  },
  {
   "cell_type": "code",
   "execution_count": null,
   "id": "e49388e9",
   "metadata": {},
   "outputs": [],
   "source": [
    "gdf_contig_proj = gdf_contig.to_crs(epsg=5070)\n",
    "gdf_contig['area'] = gdf_contig_proj['geometry'].area"
   ]
  },
  {
   "cell_type": "code",
   "execution_count": null,
   "id": "62550253",
   "metadata": {},
   "outputs": [],
   "source": [
    "fig, ax = plt.subplots(figsize=(12, 8))"
   ]
  },
  {
   "cell_type": "code",
   "execution_count": null,
   "id": "78af6377",
   "metadata": {},
   "outputs": [],
   "source": [
    "gdf_contig.plot(\n",
    "    column='area',\n",
    "    cmap='Blues',\n",
    "    linewidth=0.8,\n",
    "    edgecolor='black',\n",
    "    legend=True,\n",
    "    ax=ax\n",
    ")"
   ]
  },
  {
   "cell_type": "code",
   "execution_count": null,
   "id": "b74e6649",
   "metadata": {},
   "outputs": [],
   "source": [
    "ax.set_title(\"Contiguous U.S. States by Area (sq meters)\", fontsize=16)\n",
    "ax.axis('off')  "
   ]
  },
  {
   "cell_type": "code",
   "execution_count": null,
   "id": "65596ad0",
   "metadata": {},
   "outputs": [],
   "source": [
    "plt.show()\n",
    "# The color scale now better reflects the differences between contiguous states, rather than being dominated by Alaska’s enormous size."
   ]
  },
  {
   "cell_type": "code",
   "execution_count": null,
   "id": "247d3ffe",
   "metadata": {},
   "outputs": [],
   "source": [
    "# 2.1\n",
    "df_energy = pd.read_csv(os.path.join(PATH,\n",
    "'for_shiny_app_energy_insecurity.csv'))\n",
    "type(df_energy)"
   ]
  },
  {
   "cell_type": "code",
   "execution_count": null,
   "id": "cb7200c2",
   "metadata": {},
   "outputs": [],
   "source": [
    "df_energy.columns\n",
    "df_energy.shape\n",
    "df_energy.head()\n",
    "df_energy['STATE'] = df_energy['STATE'].str.strip().str.title()\n",
    "df_energy['STATE'] = df_energy['STATE'].replace({'District Of Columbia': 'District of Columbia'})"
   ]
  },
  {
   "cell_type": "code",
   "execution_count": null,
   "id": "f224bbcd",
   "metadata": {},
   "outputs": [],
   "source": [
    "merged = gdf_contig.merge(df_energy, left_on='name', right_on='STATE', how='left')\n",
    "unmatched_states = merged[merged['PERCENTAGE'].isnull()]\n",
    "print(unmatched_states['name'])\n",
    "merged.columns"
   ]
  },
  {
   "cell_type": "code",
   "execution_count": null,
   "id": "73301c64",
   "metadata": {},
   "outputs": [],
   "source": [
    "# 2.2\n",
    "fig, ax = plt.subplots(figsize=(12, 8))"
   ]
  },
  {
   "cell_type": "code",
   "execution_count": null,
   "id": "e140a332",
   "metadata": {},
   "outputs": [],
   "source": [
    "merged.plot(\n",
    "    column='PERCENTAGE',      \n",
    "    cmap='OrRd',              \n",
    "    linewidth=0.8,\n",
    "    edgecolor='black',\n",
    "    legend=True,\n",
    "    legend_kwds={'label': \"Energy Insecurity (%)\"},\n",
    "    ax=ax\n",
    ")"
   ]
  },
  {
   "cell_type": "code",
   "execution_count": null,
   "id": "72e2608e",
   "metadata": {},
   "outputs": [],
   "source": [
    "ax.set_title(\"Percentage of Households Experiencing Energy Insecurity (2020)\", fontsize=16)\n",
    "ax.axis('off') "
   ]
  },
  {
   "cell_type": "code",
   "execution_count": null,
   "id": "6f4a546f",
   "metadata": {},
   "outputs": [],
   "source": [
    "plt.show()"
   ]
  },
  {
   "cell_type": "code",
   "execution_count": null,
   "id": "7ceb6d22",
   "metadata": {},
   "outputs": [],
   "source": [
    "# 3.1\n",
    "PATH = (r'/Users/nanwang/Desktop/Python/applied pset/pset4 data/small_suitability/')\n",
    "gdf_solar = gpd.read_file(os.path.join(PATH,\n",
    "'opv_national_small_suitability.shp'))\n",
    "type(gdf_solar)"
   ]
  },
  {
   "cell_type": "code",
   "execution_count": null,
   "id": "9223088d",
   "metadata": {},
   "outputs": [],
   "source": [
    "gdf_solar.columns\n",
    "gdf_solar.head()\n",
    "gdf_solar['pct_suitab'].describe()\n",
    "solar_clean = gdf_solar[(gdf_solar['pct_suitab'] >= 0) & (gdf_solar['pct_suitab'] <= 1)].copy()"
   ]
  },
  {
   "cell_type": "code",
   "execution_count": null,
   "id": "d0dac94f",
   "metadata": {},
   "outputs": [],
   "source": [
    "print(f\"Number of rows before: {len(gdf_solar)}\")\n",
    "print(f\"Number of rows after cleaning: {len(solar_clean)}\")"
   ]
  },
  {
   "cell_type": "markdown",
   "id": "0f82dd37",
   "metadata": {},
   "source": [
    "3.2\n",
    "the unit of observation is ZIP code × place combination (i.e., small geographic areas where pct_suitab is computed)"
   ]
  },
  {
   "cell_type": "code",
   "execution_count": null,
   "id": "88e491f9",
   "metadata": {},
   "outputs": [],
   "source": [
    "state_solar_suitability = solar_clean.groupby('state')['pct_suitab'].mean().reset_index()\n",
    "state_solar_suitability.rename(columns={'pct_suitab': 'mean_pct_suitab'}, inplace=True)\n",
    "print(state_solar_suitability.head())\n",
    "# Using the simple mean of pct_suitab across ZIP-code-level areas assumes that:\n",
    "# All ZIP codes contribute equally to the state's solar suitability,\n",
    "# Regardless of the number of small buildings in each ZIP.\n",
    "# But in reality, A ZIP code with only 10 small buildings and 90% suitability should not have the same weight as one with 10,000 small buildings and 70% suitability."
   ]
  },
  {
   "cell_type": "code",
   "execution_count": null,
   "id": "34e31095",
   "metadata": {},
   "outputs": [],
   "source": [
    "# 4.1\n",
    "# US state abbreviation to full name dictionary using GPT\n",
    "state_abbrev_to_name = {\n",
    "    'AL': 'Alabama', 'AK': 'Alaska', 'AZ': 'Arizona', 'AR': 'Arkansas',\n",
    "    'CA': 'California', 'CO': 'Colorado', 'CT': 'Connecticut', 'DE': 'Delaware',\n",
    "    'FL': 'Florida', 'GA': 'Georgia', 'HI': 'Hawaii', 'ID': 'Idaho',\n",
    "    'IL': 'Illinois', 'IN': 'Indiana', 'IA': 'Iowa', 'KS': 'Kansas',\n",
    "    'KY': 'Kentucky', 'LA': 'Louisiana', 'ME': 'Maine', 'MD': 'Maryland',\n",
    "    'MA': 'Massachusetts', 'MI': 'Michigan', 'MN': 'Minnesota', 'MS': 'Mississippi',\n",
    "    'MO': 'Missouri', 'MT': 'Montana', 'NE': 'Nebraska', 'NV': 'Nevada',\n",
    "    'NH': 'New Hampshire', 'NJ': 'New Jersey', 'NM': 'New Mexico', 'NY': 'New York',\n",
    "    'NC': 'North Carolina', 'ND': 'North Dakota', 'OH': 'Ohio', 'OK': 'Oklahoma',\n",
    "    'OR': 'Oregon', 'PA': 'Pennsylvania', 'RI': 'Rhode Island', 'SC': 'South Carolina',\n",
    "    'SD': 'South Dakota', 'TN': 'Tennessee', 'TX': 'Texas', 'UT': 'Utah',\n",
    "    'VT': 'Vermont', 'VA': 'Virginia', 'WA': 'Washington', 'WV': 'West Virginia',\n",
    "    'WI': 'Wisconsin', 'WY': 'Wyoming', 'DC': 'District of Columbia',\n",
    "    'PR': 'Puerto Rico'\n",
    "}"
   ]
  },
  {
   "cell_type": "code",
   "execution_count": null,
   "id": "ce2c5d18",
   "metadata": {},
   "outputs": [],
   "source": [
    "state_solar_suitability['state'] = state_solar_suitability['state'].map(state_abbrev_to_name)"
   ]
  },
  {
   "cell_type": "code",
   "execution_count": null,
   "id": "7d41104e",
   "metadata": {},
   "outputs": [],
   "source": [
    "final = merged.merge(state_solar_suitability, left_on='name', right_on='state', how='left')\n",
    "missing_solar = final[final['mean_pct_suitab'].isnull()]\n",
    "print(\"States missing solar data:\")\n",
    "print(missing_solar['name'].values)"
   ]
  },
  {
   "cell_type": "code",
   "execution_count": null,
   "id": "62887458",
   "metadata": {},
   "outputs": [],
   "source": [
    "# 4.2\n",
    "final['solar_pct_display'] = final['mean_pct_suitab'] * 100\n",
    "fig, ax = plt.subplots(figsize=(12, 8))"
   ]
  },
  {
   "cell_type": "code",
   "execution_count": null,
   "id": "8ba5e047",
   "metadata": {},
   "outputs": [],
   "source": [
    "final.plot(\n",
    "    column='solar_pct_display',\n",
    "    cmap='YlGn',              \n",
    "    linewidth=0.5,\n",
    "    edgecolor='black',\n",
    "    legend=True,\n",
    "    legend_kwds={'label': \"Rooftop Solar Suitability (%)\"},\n",
    "    ax=ax\n",
    ")"
   ]
  },
  {
   "cell_type": "code",
   "execution_count": null,
   "id": "a759fe0b",
   "metadata": {},
   "outputs": [],
   "source": [
    "ax.set_title(\"Percentage of Small Buildings Suitable for Rooftop Solar (by State)\", fontsize=16)\n",
    "ax.axis('off')"
   ]
  },
  {
   "cell_type": "code",
   "execution_count": null,
   "id": "544668ba",
   "metadata": {},
   "outputs": [],
   "source": [
    "plt.show()"
   ]
  },
  {
   "cell_type": "code",
   "execution_count": null,
   "id": "50915d4d",
   "metadata": {
    "lines_to_next_cell": 1
   },
   "outputs": [],
   "source": [
    "# 5.1\n",
    "solar_threshold = final['mean_pct_suitab'].quantile(0.75)\n",
    "insec_threshold = final['PERCENTAGE'].quantile(0.75)\n",
    "print(f\"Top quartile threshold for rooftop solar suitability: {solar_threshold:.4f}\")\n",
    "print(f\"Top quartile threshold for energy insecurity: {insec_threshold:.2f}%\")"
   ]
  },
  {
   "cell_type": "code",
   "execution_count": null,
   "id": "dfe6d36a",
   "metadata": {
    "lines_to_next_cell": 1
   },
   "outputs": [],
   "source": [
    "# 5.2\n",
    "def classify_top_quartile(row, solar_thresh, insec_thresh):\n",
    "    solar = row['mean_pct_suitab']\n",
    "    insecurity = row['PERCENTAGE']\n",
    "    \n",
    "    if solar >= solar_thresh and insecurity >= insec_thresh:\n",
    "        return \"Both\"\n",
    "    elif solar >= solar_thresh:\n",
    "        return \"Solar Potential Only\"\n",
    "    elif insecurity >= insec_thresh:\n",
    "        return \"Energy Insecurity Only\"\n",
    "    else:\n",
    "        return \"\""
   ]
  },
  {
   "cell_type": "code",
   "execution_count": null,
   "id": "df709e1b",
   "metadata": {},
   "outputs": [],
   "source": [
    "final['top values'] = final.apply(classify_top_quartile, axis=1, args=(solar_threshold, insec_threshold))\n",
    "print(final[['name', 'mean_pct_suitab', 'PERCENTAGE', 'top values']].head(10))\n",
    "print(final['top values'].value_counts())"
   ]
  },
  {
   "cell_type": "code",
   "execution_count": null,
   "id": "82195ede",
   "metadata": {},
   "outputs": [],
   "source": [
    "# 5.3\n",
    "color_mapping = {\n",
    "    \"Both\": \"green\",\n",
    "    \"Solar Potential Only\": \"red\",\n",
    "    \"Energy Insecurity Only\": \"blue\"\n",
    "}"
   ]
  },
  {
   "cell_type": "code",
   "execution_count": null,
   "id": "ac5ec994",
   "metadata": {},
   "outputs": [],
   "source": [
    "# 5.4\n",
    "final['color'] = final['top values'].map(color_mapping).fillna(\"lightgray\")"
   ]
  },
  {
   "cell_type": "code",
   "execution_count": null,
   "id": "2db7e4be",
   "metadata": {},
   "outputs": [],
   "source": [
    "fig, ax = plt.subplots(figsize=(12, 8))"
   ]
  },
  {
   "cell_type": "code",
   "execution_count": null,
   "id": "65a69986",
   "metadata": {},
   "outputs": [],
   "source": [
    "final.plot(\n",
    "    color=final['color'],\n",
    "    edgecolor='black',\n",
    "    linewidth=0.5,\n",
    "    ax=ax\n",
    ")"
   ]
  },
  {
   "cell_type": "code",
   "execution_count": null,
   "id": "d33c9de0",
   "metadata": {},
   "outputs": [],
   "source": [
    "legend_elements = [\n",
    "    Patch(facecolor='green', edgecolor='black', label='Both'),\n",
    "    Patch(facecolor='red', edgecolor='black', label='Solar Potential Only'),\n",
    "    Patch(facecolor='blue', edgecolor='black', label='Energy Insecurity Only'),\n",
    "    Patch(facecolor='lightgray', edgecolor='black', label='Other States')\n",
    "]"
   ]
  },
  {
   "cell_type": "code",
   "execution_count": null,
   "id": "92449db9",
   "metadata": {},
   "outputs": [],
   "source": [
    "ax.set_title(\"Top Quartile States by Energy Insecurity and Solar Suitability\", fontsize=16)\n",
    "ax.legend(handles=legend_elements, loc='lower left', title='Top Quartile Categories')\n",
    "ax.axis('off')"
   ]
  },
  {
   "cell_type": "code",
   "execution_count": null,
   "id": "ef446fc3",
   "metadata": {},
   "outputs": [],
   "source": [
    "plt.show()"
   ]
  },
  {
   "cell_type": "markdown",
   "id": "e1fbefac",
   "metadata": {},
   "source": [
    "5.5\n",
    "The policy maker should target rooftop solar investment in green states that are in the top quartile for both energy insecurity and rooftop solar suitability."
   ]
  },
  {
   "cell_type": "markdown",
   "id": "8a09d72f",
   "metadata": {},
   "source": [
    "I spent around 6 hours this week."
   ]
  }
 ],
 "metadata": {
  "jupytext": {
   "cell_metadata_filter": "-all",
   "main_language": "python",
   "notebook_metadata_filter": "-all"
  }
 },
 "nbformat": 4,
 "nbformat_minor": 5
}
